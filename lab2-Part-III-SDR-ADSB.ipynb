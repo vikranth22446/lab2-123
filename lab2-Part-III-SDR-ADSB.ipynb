{
 "cells": [
  {
   "cell_type": "markdown",
   "metadata": {},
   "source": [
    "# EE123 Lab 2: Software Defined Radio - Part III\n",
    "\n",
    "### Written by Miki Lustig and Frank Ong\n",
    "Updated by Josh Sanz, Spring 2020\n",
    "\n",
    "Updated again by Alan Dong, Spring 2021"
   ]
  },
  {
   "cell_type": "code",
   "execution_count": null,
   "metadata": {},
   "outputs": [],
   "source": [
    "# Import functions and libraries\n",
    "import numpy as np, matplotlib.pyplot as plt\n",
    "from numpy import *\n",
    "from numpy.fft import *\n",
    "from matplotlib.pyplot import *\n",
    "from rtlsdr import RtlSdr\n",
    "import pyModeS as pms\n",
    "import gc\n",
    "from icao import get_icao_info\n",
    "\n",
    "%matplotlib inline"
   ]
  },
  {
   "cell_type": "markdown",
   "metadata": {},
   "source": [
    "## Task II: Capturing, detecting and extracting Mode S ADS-B Packets with RTL-SDR\n",
    "\n",
    "The following text is adapted from (https://github.com/bistromath/gr-air-modes).\n",
    "\n",
    "__Mode S__ is the transponder protocol used in modern commercial aircraft.\n",
    "A Mode S-equipped aircraft replies to radar interrogation by either\n",
    "ground radar (secondary surveillance) or other aircraft (\"Traffic\n",
    "Collision Avoidance System\", or TCAS).\n",
    "\n",
    "__Automatic Dependent Surveillance-Broadcast (ADS-B)__ is a communication\n",
    "protocol using the Extended Squitter capability of the Mode S transport\n",
    "layer.  The protocol is:\n",
    "\n",
    "* Automatic: it requires no pilot input\n",
    "* Dependent: it is dependent on altimeter, GPS, and other aircraft\n",
    "  instrumentation for information\n",
    "* Surveillance: it provides current information about the transmitting\n",
    "  aircraft\n",
    "* Broadcast: it is one-way, broadcast to all receivers within range.\n",
    "\n",
    "ADS-B-equipped aircraft broadcast (\"squitter\") their position, velocity,\n",
    "flight number, and other interesting information to any receiver within\n",
    "range of the aircraft. Position reports are typically generated once per\n",
    "second and flight indentification every five seconds.\n",
    "\n",
    "Packets are sent at 1090MHz and use Pulse Position Modulation (PPM) at a rate of 1Mbit per second. The simple modulation scheme is designed to be transceived by cheap hardware -- which is very much what we are doing in this lab!\n",
    "\n",
    "Pulse position modulation belongs to the family of amplitude-modulated signals and in particular to the class of amplitude-shift-keying (ASK) or on-off-keying (OOK). In OOK, `0`, `1` bits are sent by turning the carrier on and off. PPM uses the [Manchester](http://en.wikipedia.org/wiki/Manchester_code) encoding variant of OOK. The idea in Machester encoding is that in each bit interval there is always a transition between on and off and the transition occurs in the middle of the bit interval. For example, a transition from off to on would represent a `0` and a transition from on to off would represent a `1`. Manchester codes have the advantage of being self clocking so the clock can be recovered from the data stream. \n",
    "\n",
    "A Mode S ADS-B packet consists of an $8\\mu$s preamble followed by a data block of 56 or 112 $\\mu$s. A preamble is a signal used in communications to synchronize transmission timing between two or more systems. Here's a diagram that illustrates a typical packet:\n",
    "\n",
    "\n",
    "<img src=\"https://inst.eecs.berkeley.edu/~ee123/sp14/lab/adsb-packet.png\" alt=\"Drawing\" style=\"height: 200px;\"/>\n",
    "\n",
    "Now, since the bit-rate is 1Mbit/s, a sampling rate of 2MS/s should be sufficient to capture the bit transitions, detect the preamble and decode packets. In practice, ADS-B packets can be decoded using the rtl-sdr, but the captured data does not look like the ideal packet. Here's an example of a part of a captured packet:\n",
    "\n",
    "<img src=\"https://inst.eecs.berkeley.edu/~ee123/sp14/lab/real_adsb_packet.png\" alt=\"Drawing\" style=\"height: 200px;\"/>\n",
    "\n",
    "(This packet is rescaled to have a maximum amplitude of 128. Your packet does not neccessarily have this height; in fact, the maximum value of packets you will receive will be between 0.0 and 1.0)\n",
    "\n",
    "\n",
    "As you can see, there are many distortions: the key-off is not zero and there are variations in the amplitudes of the key-on. These come from various sources including the anti-aliasing filters, interfering signals, noise, gain control and more. However, it is possible to clearly see the preamble and the packet bit content! This is pretty amazing that this can be done using a $12 USB dongle because ADS-B equipment is very expensive (up to thousands of dollars).\n",
    "\n",
    "There are several types and subtypes of \"squitters\":\n",
    "\n",
    "* Short squitters are 56bits (8bits Control, 24bits address, 24bits parity check)\n",
    "* Long squitters are 112bits (8bits control, 24bits address, 56bits ADS message, 24bits parity)\n",
    "\n",
    "Only the long squitters have location information in them. "
   ]
  },
  {
   "cell_type": "markdown",
   "metadata": {},
   "source": [
    "### Task: Acquire samples  \n",
    "When acquiring data, it is highly recommended that you be OUTSIDE or close to a BIG window. Electromagnetic radiation at 1090MHz does not penetrate through walls. In addition, the antenna you got with the dongle is not ideal for ADS-B reception. It is also recommended that you do this part during the day and not at night, when the air traffic in the bay area is low. \n",
    "\n",
    "_Remember that the absolute gain of the signal is not important. It is the relative gain between your signal and noise that affects detection, so a higher SDR gain does not always mean a better signal-to-noise ratio (SNR)._\n",
    "\n",
    "* Set the rtl-sdr to a center frequency of 1090MHz, sampling rate of 2MS/s and a gain slightly higher than the middle in the list of possible gains (37-42 are good choices). You can play with the gain later if the results are not satisfactory. \n",
    "* Acquire 2,048,000 samples (approx 1 sec) and take their magnitude. We will only work with magnitude data. \n",
    "* Plot the magnitude of the received signal. Do you see any strong bursts in the amplitude? If you don't, repeat this task until you do. This will make sure you have data to work with.\n",
    "* If you see very small values where \"noise\" is, that means that your gain is too low. Try increasing the gain.\n",
    "\n",
    "\n",
    "#### Memory leakage problem with matplotlib\n",
    "It turns out that there's a memory leakage problem in matplotlib. If you plot repeatedly, some memory will not be cleared. This can be a problem on the Raspberry Pi, which has a small amount of memory. \n",
    "\n",
    "To check the memory status on the pi:\n",
    "```\n",
    "! free  -h\n",
    "```\n",
    "\n",
    "If you have less than 500Mb, then you will have trouble as we move forward with the lab. \n",
    "\n",
    "\n",
    "A work around for clearing most of the memory leak is to run the following code **after** plotting:\n",
    "```\n",
    "%xdel -n fig\n",
    "%xdel -n p\n",
    "gc.collect(2) # Garbage collection for python\n",
    "``` \n"
   ]
  },
  {
   "cell_type": "code",
   "execution_count": null,
   "metadata": {},
   "outputs": [],
   "source": [
    "%matplotlib inline\n",
    "\n",
    "# acquire data\n",
    "\n",
    "sdr = RtlSdr()\n",
    "fs = 2000000\n",
    "sdr.set_sample_rate(fs) # sampling rate\n",
    "sdr.set_center_freq(1090e6) # 1090MHz center frequency\n",
    "sdr.set_gain(43.4) \n",
    "N_Samples = 2048000 # approx 1 sec\n",
    "y = abs(sdr.read_samples(N_Samples)) # get samples\n",
    "\n",
    "# plot \n",
    "\n",
    "width, height = figaspect(0.2)\n",
    "fig = figure(figsize=(width,height))\n",
    "p = plot( (y ))\n",
    "title('magnitude of received signal')\n",
    "xlabel('samples')\n",
    "\n",
    "sdr.close()"
   ]
  },
  {
   "cell_type": "code",
   "execution_count": null,
   "metadata": {},
   "outputs": [],
   "source": [
    "! free -h"
   ]
  },
  {
   "cell_type": "code",
   "execution_count": null,
   "metadata": {},
   "outputs": [],
   "source": [
    "%xdel -n fig\n",
    "%xdel -n p\n",
    "gc.collect(2)"
   ]
  },
  {
   "cell_type": "code",
   "execution_count": null,
   "metadata": {},
   "outputs": [],
   "source": [
    "! free -h"
   ]
  },
  {
   "cell_type": "markdown",
   "metadata": {},
   "source": [
    "* Save the magnitude of the data to a file. This will help you in the programming and debugging portions, so you don't have to reacquire date and rely on airplanes to be present all the time. Use the feature `np.save('adsb.npy',y)` to save the array. Use `np.load` to load it back. You can also use the data we provided for you for debugging, but please submit plots from your OWN data. "
   ]
  },
  {
   "cell_type": "code",
   "execution_count": null,
   "metadata": {},
   "outputs": [],
   "source": [
    "np.save('adsb_mine.npy',y)"
   ]
  },
  {
   "cell_type": "code",
   "execution_count": null,
   "metadata": {},
   "outputs": [],
   "source": [
    "# y = np.load('adsb.npy')\n",
    "fs = 2000000\n",
    "\n",
    "#y = abs(y) / max(abs(y))"
   ]
  },
  {
   "cell_type": "markdown",
   "metadata": {},
   "source": [
    "Before we start automatically detecting packets, let's look at one. Use the ``%matplotlib notebook`` interactive interface for the plotting to help you scroll through the signal. \n",
    "\n",
    "* Manually look for a packet in the received signal. Look for ones with high amplitude. You can use `nonzero(y == max(abs( y)))[0]` to find the index of the maximum signal. \n",
    "* Display only a portion of the signal to avoid slow interactive responses from matplotlib notebook\n",
    "* Display the packet from `idx` to `idx + 2 * (8 + 112)`, where `idx` is the start index of the packet"
   ]
  },
  {
   "cell_type": "code",
   "execution_count": null,
   "metadata": {},
   "outputs": [],
   "source": [
    "%matplotlib notebook\n",
    "%matplotlib notebook\n",
    "\n",
    "idx_select = 0 * 10000 # index to select which chunk of the signal to be plotted (plotting full-length signal is slow)\n",
    "\n",
    "width, height = figaspect(0.3)\n",
    "fig = figure(figsize=(width,height))\n",
    "p = plot( r_[0:len(y[0:10000])],abs(y[r_[0:10000]+idx_select]))\n",
    "title('magnitude of received signal')\n",
    "xlabel('samples')\n"
   ]
  },
  {
   "cell_type": "code",
   "execution_count": null,
   "metadata": {},
   "outputs": [],
   "source": [
    "# Display the chunk\n",
    "%matplotlib inline\n",
    "idx = 3982 + 74 * 10000#\n",
    "\n",
    "chunk_length = 2 * (8 + 112)\n",
    "y_chunk = y[idx: idx + chunk_length] \n",
    "width, height = figaspect(0.3)\n",
    "fig = figure(figsize=(width,height))\n",
    "plt.stem( abs(y_chunk ) )"
   ]
  },
  {
   "cell_type": "markdown",
   "metadata": {},
   "source": [
    "Answer the following questions:\n",
    "\n",
    "* Is this a long or short squitter?\n",
    "* Manually decode the 1st 8 bits of the packet. Provide the values with your answer.  If the first sample of the chunk is the begining of the preamble, then the following code will decode the manchester-coding and return the bits content of the packet:\n",
    "\n",
    "```\n",
    "bits = y_chunk[16::2] > y_chunk[17::2]\n",
    "```\n"
   ]
  },
  {
   "cell_type": "code",
   "execution_count": null,
   "metadata": {},
   "outputs": [],
   "source": [
    "# Code Here:\n"
   ]
  },
  {
   "cell_type": "markdown",
   "metadata": {},
   "source": [
    "Answers Here:\n",
    "\n",
    "___"
   ]
  },
  {
   "cell_type": "markdown",
   "metadata": {},
   "source": [
    "## Decoding Mode-S packets. \n",
    "\n",
    "We will use the pyModeS package to decode and look at some of the information in the packet you received. The [Github](https://github.com/junzis/pyModeS) contain some information. Much more information can be found [here](http://mode-s.org/decode/).\n",
    "\n",
    "You will need the following ``bool2Hex`` function to convert your numpy boolean ndarray into the format expected by pyModeS:"
   ]
  },
  {
   "cell_type": "code",
   "execution_count": null,
   "metadata": {},
   "outputs": [],
   "source": [
    "def bool2Hex(lst):\n",
    "    tmp =  ''.join(['1' if x else '0' for x in lst])\n",
    "    return hex(int(tmp,2))[2:]"
   ]
  },
  {
   "cell_type": "markdown",
   "metadata": {},
   "source": [
    "To see if the package is valid, with no errors, we can check its CRC. You should get a string of zeros. Otherwise, there's errors. \n",
    "\n",
    "For a long squitter you need to provide the function with 28 bytes, for a short squitter 14 bytes. We will try them both. \n",
    "\n",
    "```\n",
    "msg = bool2Hex(bits)\n",
    "print(\"Long:\", pms.crc(msg))\n",
    "\n",
    "msg = bool2Hex(bits)\n",
    "print(\"Short:\",pms.crc(msg[:14]))\n",
    "```\n",
    "\n",
    "For the purpose of debugging (only if your message does not work),  here's a valid adsb packet:\n",
    "```\n",
    "msg = '8da1286c584f34d474cdc937cdbc'\n",
    "```"
   ]
  },
  {
   "cell_type": "code",
   "execution_count": null,
   "metadata": {},
   "outputs": [],
   "source": [
    "msg = bool2Hex(bits)\n",
    "# msg = '8da1286c584f34d474cdc937cdbc'\n",
    "print('CRC Long:',pms.crc(msg))\n",
    "print('CRC Short:',pms.crc(msg[:14]))"
   ]
  },
  {
   "cell_type": "markdown",
   "metadata": {},
   "source": [
    "Next, we will look at the type of packet. The following information is copied from the pyModeS github:\n",
    "```\n",
    "Python library for Mode-S message decoding. Support Downlink Formats (DF) are:\n",
    "\n",
    "Automatic Dependent Surveillance - Broadcast (ADS-B) (DF17)\n",
    "aircraft information that contains: ICAO address, position, altitude, velocity (ground speed), callsign, etc.\n",
    "Mode-S Elementary Surveillance (ELS) (DF4 and DF5).\n",
    "DF4: Altitude\n",
    "DF5: Squawk code\n",
    "Mode-S Enhanced Surveillance (EHS) (DF20 and DF21). Additional information in response to SSR interrogation, such as: true airspeed, indicated airspeed, mach number, wind, temperature, etc.\n",
    "DF20: Altitude\n",
    "DF21: Squawk code\n",
    "BDS 2,0 Aircraft identification\n",
    "BDS 2,1 Aircraft and airline registration markings\n",
    "BDS 4,0 Selected vertical intention\n",
    "BDS 4,4 Meteorological routine air report\n",
    "BDS 5,0 Track and turn report\n",
    "BDS 5,3 Air-referenced state vector\n",
    "BDS 6,0 Heading and speed report\n",
    "```\n",
    "\n",
    "To find the type of packet, use:\n",
    "\n",
    "```pms.df(bool2Hex(bits)))```"
   ]
  },
  {
   "cell_type": "code",
   "execution_count": null,
   "metadata": {},
   "outputs": [],
   "source": [
    "#Code Here:\n"
   ]
  },
  {
   "cell_type": "markdown",
   "metadata": {},
   "source": [
    "Each Mode-S device has a unique number given by the International Civil Aviation Organization (ICAO). This will enable you to identify the airplane. \n",
    "\n",
    "If your packet is ADS-B (DF17) run:\n",
    "```\n",
    "pms.adsb.icao(bool2Hex(bits))\n",
    "```\n",
    "\n",
    "If your packet is ELS (DF4, DF5) run:\n",
    "```\n",
    "pms.els.icao(bool2Hex(bits))\n",
    "```\n",
    "\n",
    "If your packet is EHS (DF20, DF21) run:\n",
    "```\n",
    "pms.ehs.icao(bool2Hex(bits))\n",
    "```\n",
    "\n",
    "You can then use the (slightly out of date due to licensing restrictions) [World Aircraft Database](https://junzis.com/adb/) to quarry the ICAO address.\n",
    "\n",
    "For example, \n",
    "\n",
    "```\n",
    "\n",
    "|ICAO Addr.\t|Reg. ID\t|Model\t|Aircraft Type\t           |Operator\t     |Timestamp\t         |  \n",
    "|A34358\t    |N30913     |B788\t|Boeing 787-8 Dreamliner + |United Airlines +|2018-02-11 18:30:03|\n",
    "\n",
    "```\n",
    "\n",
    "We have written a handy function for you that will automatically query the database and return the tail number (N number), model, aircraft type, and operator."
   ]
  },
  {
   "cell_type": "code",
   "execution_count": null,
   "metadata": {},
   "outputs": [],
   "source": [
    "# Search for information about ICAO ID a76df8\n",
    "get_icao_info('a76df8')"
   ]
  },
  {
   "cell_type": "markdown",
   "metadata": {},
   "source": [
    "Now search for information on the aircraft you detected."
   ]
  },
  {
   "cell_type": "code",
   "execution_count": null,
   "metadata": {},
   "outputs": [],
   "source": [
    "#Code Here:\n"
   ]
  },
  {
   "cell_type": "markdown",
   "metadata": {},
   "source": [
    "If the message is of type DF17, i.e. ADS-B, you look further. First check the typecode:\n",
    "```\n",
    "pms.adsb.typecode(msg)\n",
    "```\n"
   ]
  },
  {
   "cell_type": "code",
   "execution_count": null,
   "metadata": {},
   "outputs": [],
   "source": [
    "#Code Here:\n"
   ]
  },
  {
   "cell_type": "markdown",
   "metadata": {},
   "source": [
    "Typecodes 1-4 will have callsign information, which can extracted via:\n",
    "```\n",
    "pms.adsb.callsign(msg)\n",
    "```\n",
    "\n",
    "Typecodes 5-8 / 9-18 will have surface/airborne position and altitude information. For position, you will need two packets. Information on calculating position can be found [here](http://mode-s.org/decode/adsb/airborne-position.html), but altitude in ft can be extracted via:\n",
    "```\n",
    "pms.adsb.altitude(msg)\n",
    "```\n",
    "\n",
    "Typcode 19 will have velocity and heading information:\n",
    "```\n",
    "pms.adsb.velocity(msg)          # handles both surface & airborne messages\n",
    "pms.adsb.speed_heading(msg)     # handles both surface & airborne messages\n",
    "pms.adsb.surface_velocity(msg)\n",
    "pms.adsb.airborne_velocity(msg)\n",
    "```\n",
    "\n",
    "The example message is typecode 11, so the altitude of the airplane is:\n",
    "\n",
    "```\n",
    "print('Altitude:', pms.adsb.altitude(msg),'(ft)')\n",
    "\n",
    "Altitude: 14675 (ft)\n",
    "```"
   ]
  },
  {
   "cell_type": "code",
   "execution_count": null,
   "metadata": {},
   "outputs": [],
   "source": [
    "#Code Here:\n"
   ]
  },
  {
   "cell_type": "markdown",
   "metadata": {},
   "source": [
    "## Preamble Detection\n",
    "\n",
    "We would like to automatically detect packets. Detecting the preamble is a good way to start, as the preamble is the same for all packets. In general, a good detector should have the minimum number of false negatives and false positives. For ADS-B packets, we care more about false negatives, since this means that we may be missing an important packet. At the same time, a false positive would result in a packet which we can not decode, which is not harmful, except that we spend time in extra computation to perform parity checks. \n",
    "\n",
    "#### Noise floor estimation\n",
    "When looking at detection, it is useful to know what is the noise level compared to the signal level. This can help setting thresholds for detecting signals. When noise has Gaussian statistics, we can calculate the sample mean and sample standard deviation to estimate its distribution. Unfortunately, our received signal is not only contaminated by Gaussian random noise (actually, the magnitude is [Rayleigh distributed](https://en.wikipedia.org/wiki/Rayleigh_distribution)  -- not Gaussian, but we will ignore that). It is also contaminated by interference as well as bursts of ADS-B packet data. If we compute the sample mean and standard deviation, they could be biased by strong outliers coming from the packet bursts. \n",
    "\n",
    "One solution is to use robust estimation using median calculations. The median is a measure which is robust to outliers and can be used to estimate the mean. In order to robustly estimate the standard deviation we can use the Median Absolute Deviation (MAD) estimator: http://en.wikipedia.org/wiki/Median_absolute_deviation. The MAD is computed in the following way:\n",
    "\n",
    "$$ \\mathrm{MAD}(X) = \\mathrm{median}(|X - \\mathrm{median}(X)|) $$\n",
    "\n",
    "As it turns out, the standard deviation can be approximated from the MAD by:\n",
    "\n",
    "$$\\sigma \\approx 1.4826 \\mathrm{MAD} $$\n",
    "\n",
    "While this should work most of the time, I found that the MAD does not work well on the SDR data. The reason is that the SDR has only 8-bit accuracy. This quantization throws off the MAD, and was making me mad as well.\n",
    "\n",
    "##### Iterative estimation with outlier rejection\n",
    "Instead, we will look at an iterative calculation which ignores outliers. The idea is simple: We will compute the mean and standard deviation with the outliers. These will be biased, of course. We will use these biased estimators to calculate a threshold and recompute the mean and standard deviation within the threshold -- thus throwing away the largest outliers. We will repeat a few more times until the result converges.\n",
    "\n",
    "* Compute the mean ``y_mean`` and standard deviation ``y_std`` of the sequence. You will find the functions ``mean`` and ``std`` most useful.\n",
    "* Compute a threshold. We will set the threshold to be mean + 5 * standard deviation. This will guarantee that any sample larger than that is likely to be an outlier.\n",
    "* Find the indices of the sequence which are lower than the threshold and repeat the calculations only using these indices. You will find the function ``nonzero`` useful.\n",
    "* Repeat 4 more times. You will see that the numbers converge quickly if not immediately."
   ]
  },
  {
   "cell_type": "code",
   "execution_count": null,
   "metadata": {},
   "outputs": [],
   "source": [
    "#Code here\n"
   ]
  },
  {
   "cell_type": "markdown",
   "metadata": {},
   "source": [
    "#### Signal Amplitude Detector \n",
    "Optimal thresholds based on noise are beyond the scope of this lab. However, we need to come up with a threshold for which we can say that a received signal (ANY signal, not just ADS-B) is above it. \n",
    "A safe bet would be the mean plus some multiple of the standard deviation. A factor of 3 to 10 is reasonable.  \n",
    "\n",
    "\n",
    "* set the threshold to be `thresh = y_mean + alpha*y_std`, where alpha is 3 to 10. (Experiment! It will depend on the level of spiky noise in the data as well.)\n",
    "* find all the indices for which the received signal is greater than the threshold. Call the list `idx_sig`. We will use these indices later to detect preambles (Hint: use `nonzero(input)[0]`)\n",
    "\n",
    "Once you estimate the threshold, you can reuse it for subsequent captures, and do not need to recalculate it. You can refresh the estimates periodically as the noise and interference environment may change over time. \n",
    "\n",
    "Plot the sequence again, with a line at the threshold to visualize if you got it correct. "
   ]
  },
  {
   "cell_type": "code",
   "execution_count": null,
   "metadata": {},
   "outputs": [],
   "source": [
    "alpha = \n",
    "sig_thresh = y_mean+ alpha*y_std\n",
    "idx_sig = nonzero(y > sig_thresh)[0]"
   ]
  },
  {
   "cell_type": "code",
   "execution_count": null,
   "metadata": {
    "scrolled": false
   },
   "outputs": [],
   "source": [
    "%matplotlib inline\n",
    "\n",
    "width, height = figaspect(0.3)\n",
    "fig = figure(figsize=(width,height))\n",
    "p = plot(r_[0:len(y)]/fs,abs(y),r_[0:len(y)]/fs,ones((len(y)))*sig_thresh)"
   ]
  },
  {
   "cell_type": "code",
   "execution_count": null,
   "metadata": {},
   "outputs": [],
   "source": [
    "plt.close(fig)\n",
    "%xdel fig\n",
    "%xdel p\n",
    "gc.collect(2)"
   ]
  },
  {
   "cell_type": "markdown",
   "metadata": {},
   "source": [
    "At this point, we suggest that you take a look at the memory status of your system and use the workaround to free some of the memory matplotlib has taken!\n"
   ]
  },
  {
   "cell_type": "code",
   "execution_count": null,
   "metadata": {},
   "outputs": [],
   "source": [
    "!free -h"
   ]
  },
  {
   "cell_type": "markdown",
   "metadata": {},
   "source": [
    "#### Normalized Cross Correlation Detection\n",
    "Detecting that a signal is received does not mean that it is the right signal! We would like to make sure it is the preamble. There are many ways we can go about detecting the preamble. We already saw in Lab 1 that matched filtering can be used for detection. Take a look at the ideal preamble below, and a preamble we measured when preparing the lab.\n",
    "\n",
    "<img src=\"https://inst.eecs.berkeley.edu/~ee123/sp14/lab/real_adsb_packet.png\" alt=\"Drawing\" style=\"height: 200px;\"/>\n"
   ]
  },
  {
   "cell_type": "markdown",
   "metadata": {},
   "source": [
    "In Lab 1, we saw that matched filtering is implemented using cross correlation. Here, we will also use cross correlation. However, we need to remember to subtract the mean from each of the signals! (We didn't do it for the chirp, since the chirp has zero mean). The cross correlation is defined as:\n",
    "$$ R_{xy}[n] = \\sum_{k=0}^{15} (x[n+k]- \\hat{x}_n) (y[k] - \\hat{y} )$$\n",
    ", where $\\hat{x}_n$ is the mean of $x$ in a window size 16 around the index $n$.\n",
    "\n",
    "The issue is that the result would depend on the signal's magnitude. It will be hard to give a \"score\" for detected or not detected. Therefore we will use a normalized cross correlation instead, which is defined as \n",
    "$$ \\hat R_{xy}[n] = \\frac{\\sum_{k=0}^{15} (x[n+k]- \\hat{x}_n) (y[k] - \\hat{y} )}{||x[n]-\\hat{x}_n||\\cdot ||y-\\hat y||}$$\n",
    "This will guarantee that the result is bounded between -1 and 1 (by the Cauchy-Schwartz inequality). "
   ]
  },
  {
   "cell_type": "markdown",
   "metadata": {},
   "source": [
    "To make the implementation fast and easy, we will first write a function that calculates the normalized cross correlation of a 16 sample window of the signal. We will then loop through only the indices of the signal for which the signal amplitude detection was above the threshold. Using for loops is not an efficient implementation in Python, but it will do for this purpose. You are more than welcome to write your own efficient implementation. \n",
    "\n",
    "* Write a function `detectPreambleXcorr(chunk,corrthresh)`. The function accepts an array of 16 samples, e.g., $x[n]\\cdots x[n+15]$. It evaluates the normalized cross correlation with an ideal preamble, and returns `True` if it is greater than `corrthresh`."
   ]
  },
  {
   "cell_type": "code",
   "execution_count": null,
   "metadata": {},
   "outputs": [],
   "source": [
    "def detectPreambleXcorr(chunk, corrthresh):\n",
    "    # The function accepts an array of 16 samples, e.g., x[n]⋯x[n+15]. \n",
    "    # It evaluates the normalized cross correlation with an ideal preamble, \n",
    "    # and returns a True if it is greater than corrthresh\n",
    "    \n",
    "    # Your Code here:\n"
   ]
  },
  {
   "cell_type": "markdown",
   "metadata": {},
   "source": [
    "* Loop over the inputs for which the signal amplitude was above the amplitude threshold to detect packets. Set a correlation threshold of 0.5 . Store all the positions of detected packet in an array `idx_corr`. If you did not detect any packets, reduce the threshold. (Warning: This operation may take more than a minute for a low signal thresholds; make sure the threshold is set such that you don't have more than 4000 indices to check)\n"
   ]
  },
  {
   "cell_type": "code",
   "execution_count": null,
   "metadata": {},
   "outputs": [],
   "source": [
    "if len(idx_sig) < 4000:\n",
    "    print('You set your threshold well. Good to go!')\n",
    "else:\n",
    "    print('Probably should set a higher threshold')"
   ]
  },
  {
   "cell_type": "code",
   "execution_count": null,
   "metadata": {},
   "outputs": [],
   "source": [
    "# Your code here:\n"
   ]
  },
  {
   "cell_type": "markdown",
   "metadata": {},
   "source": [
    "* Create an array `msgs`, in which each row contains a detected packet. Make each row 2 * (8 + 112) indices long to accomodate the long squitters. \n",
    "* Display the array as an image. You should be able to see four vertical lines on the left corresponding to the preamble. Do you see short and long squitters?"
   ]
  },
  {
   "cell_type": "code",
   "execution_count": null,
   "metadata": {},
   "outputs": [],
   "source": [
    "%matplotlib inline \n",
    "\n",
    "# Code here:\n",
    "\n",
    "\n",
    "# Plot\n",
    "width, height = figaspect(0.3)\n",
    "fig = figure(figsize=(width,height))\n",
    "plt.imshow(sqrt(msgs), aspect='auto', cmap=\"gray\")\n",
    "plt.ylabel(\"Incoming messages\")\n",
    "plt.xlabel(\"The Received message\")"
   ]
  },
  {
   "cell_type": "markdown",
   "metadata": {},
   "source": [
    "Take a look at this code. It checks the packets' CRCs, and counts the valid packets. It also performs some decoding. Run the following to check how many valid messages you captured:\n"
   ]
  },
  {
   "cell_type": "code",
   "execution_count": null,
   "metadata": {},
   "outputs": [],
   "source": [
    "count = 0\n",
    "for n in r_[0:msgs.shape[0]] :\n",
    "    bits = msgs[n,16::2] > msgs[n,17::2]\n",
    "    msg = bool2Hex(bits)\n",
    "    crc = pms.crc(msg)\n",
    "    if (crc==0): # long\n",
    "        count = count + 1\n",
    "        print(count,\")CRC OK, DF\",pms.df(msg),\"ICAO:\",pms.adsb.icao(msg),\"typecode:\",pms.adsb.typecode(msg),\"MSG:\",msg)\n",
    "    else: # short or nothing\n",
    "        crc = pms.crc(msg[:14]) # look at a short message\n",
    "        if (crc==0): # short message\n",
    "            count = count + 1\n",
    "            print(count,\")CRC OK, DF\",pms.df(msg),\"MSG:\",msg[:14])"
   ]
  },
  {
   "cell_type": "markdown",
   "metadata": {},
   "source": [
    "#### Non-linear Classification: Preamble Detection Using Logic\n",
    "\n",
    "The previous approach is considered a linear classifier. We looked at the correlation and then decided on detection if the correlation was more than 1/2. The issue is, that with noise and interference, the \"shape\" of the preamble might differ considerably and will result in low correlation. There are other classifiers which can be made immune to different sources of imperfections. \n",
    "Our received preambles have varying total amplitudes (planes are near and far), have bias, and also exhibit amplitude modulation. At the same time, the preamble is relatively short. Instead of matched filtering, we can devise a non-linear classifier which may be more robust. Here, we will look at detecting the preamble using logic.\n",
    "\n",
    "<img src=\"https://inst.eecs.berkeley.edu/~ee123/sp14/lab/real_adsb_packet.png\" alt=\"Drawing\" style=\"height: 200px;\"/>\n",
    "\n",
    "Considering again the ideal preamble. Notice that there are four values which are high `[0, 2, 7, 9]`and there are 12 values which are low `[1,3,4,5,6,8,10,11,12,13,14,15]`. If we just consider logic (e.g. comparing highs and lows), we can make our detection significantly more robust to the bias and amplitude modulation. Another benefit of using logic is that it can be computationally more efficient than normalized matched filtering. Because of this, it is more suitable for real-time applications.\n",
    "\n",
    "Of course, it is possible to introduce more conditions. For example, in order to avoid detection of noise that resembles the preamble, we can set a minimum limit on the amplitude of highs we consider a detection. In addition, to be able to separate between highs and lows we need to have a good amplitude margin, so we can set a threshold for a minimum average margin between them.\n",
    "\n",
    "\n",
    "* Implement a function `idx_preamble = detectPreamble( y )`. The function will accept the entire signal and will return a list of indices containing the start of each preamble. The basic logic of the function should be based on comparing \"high\" and \"low\" bits. (Hint: use `nonzero` to find the indices that satisfy the conditions). If you want to add thresholds using the mean-variance estimate as well, you are more than welcome! \n",
    "* Try to make your function as efficient as possible, since it will be used in real-time in the next part of the lab.\n",
    "* Run the function on the signal `y`.\n",
    "\n",
    "For reference, our own implementation takes less than 3 seconds to finish. "
   ]
  },
  {
   "cell_type": "code",
   "execution_count": null,
   "metadata": {},
   "outputs": [],
   "source": [
    "def detectPreamble(y):\n",
    "    # Function accepts sdr samples and returns a list of indices containing the start of each preamble.  \n",
    "    # Your fast code here:\n"
   ]
  },
  {
   "cell_type": "code",
   "execution_count": null,
   "metadata": {},
   "outputs": [],
   "source": [
    "idx_preamble = detectPreamble(y)"
   ]
  },
  {
   "cell_type": "markdown",
   "metadata": {},
   "source": [
    "* Create an array in which each row contains a detected packet. Make each row 2 * (8 + 112) long to accomodate the long squitters. \n",
    "* Display the array as an image. You should be able to see four vertical lines on the left corresponding to the preamble. Do you see short and long squitters?"
   ]
  },
  {
   "cell_type": "code",
   "execution_count": null,
   "metadata": {},
   "outputs": [],
   "source": [
    "# Your code here:\n",
    "\n",
    "msgs = "
   ]
  },
  {
   "cell_type": "code",
   "execution_count": null,
   "metadata": {},
   "outputs": [],
   "source": [
    "# Display as an image\n",
    "\n",
    "width, height = figaspect(0.3)\n",
    "fig = figure(figsize=(width,height))\n",
    "plt.imshow(sqrt(msgs), aspect='auto', cmap=\"gray\")\n",
    "plt.ylabel(\"Incoming messages\")\n",
    "plt.xlabel(\"The Received message\")"
   ]
  },
  {
   "cell_type": "markdown",
   "metadata": {},
   "source": [
    "Take a look at this code. It checks the packets' CRCs and counts the valid packets. It also performs some decoding. Run the following to check how many valid messages you captured. Did you decode the same, more or fewer packets than with the linear classifier?\n"
   ]
  },
  {
   "cell_type": "code",
   "execution_count": null,
   "metadata": {},
   "outputs": [],
   "source": [
    "count = 0\n",
    "for n in r_[0:msgs.shape[0]] :\n",
    "    bits = msgs[n,16::2] > msgs[n,17::2]\n",
    "    msg = bool2Hex(bits)\n",
    "    crc = pms.crc(msg)\n",
    "    if (crc==0): # long\n",
    "        count = count + 1\n",
    "        print(count,\")CRC OK, DF\",pms.df(msg),\"ICAO:\",pms.adsb.icao(msg),\"typecode:\",pms.adsb.typecode(msg),\"MSG:\",msg)\n",
    "    else: # short or nothing\n",
    "        crc = pms.crc(msg[:14]) # look at a short message\n",
    "        if (crc==0): # short message\n",
    "            count = count + 1\n",
    "            print(count,\")CRC OK, DF\",pms.df(msg),\"MSG:\",msg[:14])"
   ]
  },
  {
   "cell_type": "markdown",
   "metadata": {},
   "source": [
    "### Some more details:\n",
    "\n",
    "Now that you can detect the preambles, the only task left is to decode the messages. \n",
    "In general, you have enough information to build an application that receives data from the SDR, detects packets, decodes, looks for position information and displays that in real-time with the google maps API. \n",
    "But in the next part of the lab, we have provided an ADS-B decoder so that you can extract flight positions using your functions. \n",
    "\n",
    "Before this, here's a simple example:\n",
    "\n",
    "In a second test file called ``adsb2.npy``, there are enough packets to decode positioning. This data was captured on 02/11/2018 around 7pm. There were 5 long squitters that can be detected and decoded. In particular, there are two of typecode 11, which contain the position information. You should be able to decode these, and I encourage you to. \n",
    "\n",
    "To decode position, you need an even and an odd typecode 11 packet. Even and odd packets are determined by the 54th bit in the packet (or index 53). \n",
    "\n",
    "The first typecode 11 message received was:\n",
    "```\n",
    "msg1 = '8d406b4a584d34c354ca7db928f7'\n",
    "```\n",
    "and the second typecode 11 message received was:\n",
    "```\n",
    "msg2 = '8d406b4a584d412ed01ce01be074'\n",
    "```\n",
    "\n",
    "Looking at the 54th bit:\n",
    "\n",
    "``print(pms.util.hex2bin(msg1)[53])``\n",
    "``print(pms.util.hex2bin(msg1)[53])``\n",
    "\n",
    "we see that the ``msg1`` is odd, and ``msg2`` is even. \n",
    "\n",
    "To get the position we need to tell the decoding function which was first. We will set a timestamp of 0 \n",
    "for the first message (odd) and a timestamp 1 for the second message (even). The numbers are not important. What is important is which one was first.\n",
    "\n",
    "```\n",
    "pos = pms.adsb.position(msg2,msg1,1,0)\n",
    "```\n",
    "\n",
    "which results in (37.77429, -122.12122).\n",
    "\n",
    "Typing 37.77429, -122.12122 into a google map search will show the position!\n",
    "\n",
    "\n",
    "The altitude can be decoded by:\n",
    "```\n",
    "alt1 = pms.adsb.altitude(msg1)\n",
    "alt2 = pms.adsb.altitude(msg2)\n",
    "```\n",
    "\n",
    "These will give 14275' and 14300', which means the airplane was ascending!\n",
    "\n",
    "One of the other packets was a typecode 19, which has airborn velocity and heading information.\n",
    "```\n",
    "msg3 = '8d406b4a9909750d00888abb0521'\n",
    "velocity = pms.adsb.velocity(msg3)\n",
    "heading = pms.adsb.speed_heading(msg3)\n",
    "```\n",
    "\n",
    "We get heading=(385, 74.5) which means 385 knots (443 MPH) and 74.5 degrees -- which means the aircraft was heading north-east.\n",
    "\n",
    "We get velocity = (385,74.5,2112,'GS') corresponding to (speed in knots, heading in degress, rate of climb in ft/min, and speed type 'GS'/'AS' for ground/air speed)\n",
    "\n",
    "Finally, we look at the ICAO address in any of the packets:\n",
    "```\n",
    "icao = pms.adsb.icao(msg3)\n",
    "```\n",
    "which gives icao = 406b4a. This is a Boeing 787-9 Dreamliner operated by Virgin Atlantic which was going from SFO to LHR.\n"
   ]
  },
  {
   "cell_type": "code",
   "execution_count": null,
   "metadata": {},
   "outputs": [],
   "source": [
    "msg1 = '8d406b4a584d34c354ca7db928f7'\n",
    "msg2 = '8d406b4a584d412ed01ce01be074'\n",
    "msg3 = '8d406b4a9909750d00888abb0521'"
   ]
  },
  {
   "cell_type": "code",
   "execution_count": null,
   "metadata": {},
   "outputs": [],
   "source": [
    "# code to decode packet informations and position here:\n"
   ]
  },
  {
   "cell_type": "markdown",
   "metadata": {},
   "source": [
    "## You are now ready to proceed to the real-time flight radar lab"
   ]
  }
 ],
 "metadata": {
  "kernelspec": {
   "display_name": "Python 3",
   "language": "python",
   "name": "python3"
  },
  "language_info": {
   "codemirror_mode": {
    "name": "ipython",
    "version": 3
   },
   "file_extension": ".py",
   "mimetype": "text/x-python",
   "name": "python",
   "nbconvert_exporter": "python",
   "pygments_lexer": "ipython3",
   "version": "3.7.3"
  }
 },
 "nbformat": 4,
 "nbformat_minor": 1
}
