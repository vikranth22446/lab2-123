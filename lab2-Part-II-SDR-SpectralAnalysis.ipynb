{
 "cells": [
  {
   "cell_type": "markdown",
   "metadata": {},
   "source": [
    "# EE123 Lab 2: Software Defined Radio - Part II\n",
    "\n",
    "### Written by Miki Lustig and Frank Ong\n",
    "Updated by Josh Sanz, Spring 2020\n",
    "\n",
    "Updated again by Alan Dong, Spring 2021"
   ]
  },
  {
   "cell_type": "markdown",
   "metadata": {},
   "source": [
    "### About the lab:\n",
    "\n",
    "In the first part of the lab, we will look at the power spectrum of the NOAA radio signal and introduce settings of the SDR along the way. In the second part of the lab, we will decode Mode-S ADS-B packets that are transmitted by airplanes passing by, and picked up by the SDR, which allows us to track airplanes in real time.\n"
   ]
  },
  {
   "cell_type": "markdown",
   "metadata": {},
   "source": [
    "## About the SDR\n",
    "\n",
    "The rtl-sdr usb dongle enables you to obtain samples from the electromagnetic spectrum around you. In very general terms, the dongle contains several components:\n",
    "\n",
    "1. The antenna couples to received electromagnetic fields and tiny currents are produced in it. \n",
    "2. A tuner integrated circuit amplifies the signal, filters it, demodulates it to an intermediate frequency where it is filtered again. The dongles we distributed in class contain either the Rafael Micro 820T (Black dongles) tuner or the Elonics E4000  (white dongles). \n",
    "3. All dongles are equipped with the realtek RTL2832U (hence rtl-sdr). Although the chip is capable of doing many things (like decoding TV in Europe), we use only its analog to digital converters and its USB interface. The RTL2832U samples the signal that is coming from the tuner and spits out samples to the computer through the USB interface. \n",
    "\n",
    "The SDR returns samples at a desired rate up to 2.4MS/s (sometimes 3.5MS/s) of a part of the spectrum around a desired center frequency. For example, setting a center frequency $f_0 = 88.5\\cdot 10^6$ and a sampling rate of $Fs=2\\cdot 10^6$ will result in a complex valued sequence $x[n]$ whose DTFT corresponds to the physical frequency range of $87.5\\cdot 10^6 < f < 89.5\\cdot 10^6$. In other words, the digital frequency $\\omega=0$ of $X(e^{j\\omega})$, the DTFT of $x[n]$, will correspond to the physical frequency $88.5$MHz. The digital frequency $\\omega=\\pi$ will correspond to $89.5$MHz and $\\omega=-\\pi$ will correspond to $87.5$MHz.\n",
    "\n",
    "Q) Why is the sequence $x[n]$ complex valued ??? \n",
    "\n",
    "A) Consider the case when there is a transmitter which outputs a pure frequency at 89MHz. We choose a center frequency of 88.5MHz and sampling rate of 2MHz. The spectrum of $x[n]$ will not be symmetric, so $x[n]$ has to be complex valued! The received signal would be $x[n] = e^{j(2\\pi500000/2000000)n} = e^{j(\\pi/2)n}$ which will have a single frequency at $\\omega=\\pi/2$ --> corresponding to 89MHz. \n",
    "\n",
    "\n",
    "\n",
    "To learn about what you can do with SDR's, I  recommend you watch this youtube video. Most (not all) the stuff shown there can be done using rtl-sdr. At minute 5:00 you will see an example of ADS-B, which you will partly implement in this lab. (You will need internet connection to watch the video)"
   ]
  },
  {
   "cell_type": "code",
   "execution_count": null,
   "metadata": {},
   "outputs": [],
   "source": [
    "from IPython.display import YouTubeVideo\n",
    "# A video on what you can do with Software defined radio. The B200 is a high-end SDR which is capable to much more than the rtl-sdr. \n",
    "# however, most of the stuff shown in the video could be done with the rtl-sdr as well. \n",
    "YouTubeVideo('cygDXeZaiOM')"
   ]
  },
  {
   "cell_type": "code",
   "execution_count": null,
   "metadata": {},
   "outputs": [],
   "source": [
    "# Import functions and libraries\n",
    "import numpy as np, matplotlib.pyplot as plt\n",
    "from numpy import *\n",
    "from numpy.fft import *\n",
    "from matplotlib.pyplot import *\n",
    "from rtlsdr import RtlSdr\n",
    "\n",
    "%matplotlib inline"
   ]
  },
  {
   "cell_type": "markdown",
   "metadata": {},
   "source": [
    "## Task I: Capture data and compute the spectrum\n",
    "Let's look at a simple example of acquring data and looking at its spectrum. NOAA weather radio is transmitted from San Francisco at 162.4MHz. It is a 5KHz frequency modeulated (FM) audio signal that voices a recording of the weather. If you live in the East Bay, you might also be able to pick up the Mt. Diablo transmitter at 162.425MHz. Here's a map of the SF coverage:\n",
    "\n",
    "<img src=\"https://inst.eecs.berkeley.edu/~ee123/sp14/lab/KHB49.png\" alt=\"Drawing\" style=\"height: 500px;\"/>\n",
    "\n",
    "It's best if you are outside of the building when collecting samples. Let's collect 4 seconds worth of samples, sampled with a center frequency of 162MHz and a sampling rate of 960KHz.\n",
    "\n",
    "To Instantiate the sdr with the following parameters, which create the rtlsdr object, set the center frequency and the sampling rate\n",
    "\n",
    "    sdr = RtlSdr()\n",
    "    sdr.set_sample_rate(960000)    # sampling rate\n",
    "    sdr.set_center_freq(162200000)   # 162.2MhZ center frequency\n",
    "    "
   ]
  },
  {
   "cell_type": "code",
   "execution_count": null,
   "metadata": {},
   "outputs": [],
   "source": [
    "# code here\n",
    "fs = 960000.\n",
    "fc = 162200000.\n"
   ]
  },
  {
   "cell_type": "markdown",
   "metadata": {},
   "source": [
    "It is also useful to set the gain appropriately. The default is usually quite high and the signal saturates. \n",
    "\n",
    "To see what are the valid gains, invoke: \n",
    "\n",
    "    print(sdr.valid_gains_db)\n",
    "\n",
    "The result will depend on the type of SDR you have (there are a few variants)"
   ]
  },
  {
   "cell_type": "code",
   "execution_count": null,
   "metadata": {},
   "outputs": [],
   "source": [
    "print(sdr.valid_gains_db)"
   ]
  },
  {
   "cell_type": "markdown",
   "metadata": {},
   "source": [
    "Pick a number that's one or two slots larger than the middle (around 37.2 I found to be working well) and set the gain using\n",
    "    sdr.set_gain(gain)\n",
    "    "
   ]
  },
  {
   "cell_type": "code",
   "execution_count": null,
   "metadata": {},
   "outputs": [],
   "source": [
    "gain = \n",
    "sdr.set_gain(gain)"
   ]
  },
  {
   "cell_type": "markdown",
   "metadata": {},
   "source": [
    "The python interface to the SDR requires that the number of samples be a multiple of 256. To read samples from the SDR, run the following command:\n",
    "\n",
    "    N_samples = 960000*4 # 4 seconds\n",
    "    y = sdr.read_samples(N_samples)   # get samples\n",
    "\n",
    "If you are done with the device, you can clear it by:\n",
    "    sdr.close()"
   ]
  },
  {
   "cell_type": "code",
   "execution_count": null,
   "metadata": {},
   "outputs": [],
   "source": [
    "# Your code here\n",
    "\n",
    "sdr.close()"
   ]
  },
  {
   "cell_type": "markdown",
   "metadata": {},
   "source": [
    "In case you are having trouble with the SDR, uncomment the line below to load Miki's capture\n",
    "``y = np.load('noaa.npy')``"
   ]
  },
  {
   "cell_type": "code",
   "execution_count": null,
   "metadata": {},
   "outputs": [],
   "source": [
    "np.save('noaa_mine.npy',y)\n",
    "\n",
    "#In case you are having trouble with the SDR, uncomment the line below to load Miki's capture\n",
    "# y = np.load('noaa.npy')"
   ]
  },
  {
   "cell_type": "markdown",
   "metadata": {},
   "source": [
    "We will only use a small portion of it to process and look at the spectrum. Let’s crop the samples and analyze the spectrum of a portion of 16384 samples of it. We will use the function `fft` to compute the DFT and then `fftshift` to center the DFT around $\\omega=0$. Remember, the signal you captured is complex-valued, and hence has a two-sided spectrum. Instead of showing the spectrum in terms of $\\omega$, plot it in terms of the physical frequencies. Use a Kaiser window with $\\beta=6$. Use the function `plt.semilogy` to plot in log-scale. Make sure the axis is tight using `plt.axis` and that the aspect ratio of the figure is wide, so you can see the spectrum better.\n"
   ]
  },
  {
   "cell_type": "code",
   "execution_count": null,
   "metadata": {},
   "outputs": [],
   "source": [
    "# Your Code here:\n",
    "\n",
    "\n",
    "# Plot\n",
    "width, height = figaspect(0.2)\n",
    "fig=plt.figure(figsize=(width,height))\n",
    "p = plt.semilogy( f/1e6, abs(Y_w)), plt.xlabel('frequency [MHz]')\n",
    "plt.title('spectrum')"
   ]
  },
  {
   "cell_type": "markdown",
   "metadata": {},
   "source": [
    "You should be able to see some energy in the spectrum around the right frequency. However, what you will notice immediately is that the spectrum is noisy. In addition, there might be some spurious peaks, and in the white dongles (E4000) there is also a large peak at the DC frequency. The peak at the DC frequency is due to constant bias in the ADC of the device. This translates to an impulse at $\\omega = 0$. Spurious peaks come from local oscillator leak and also quantization errors. \n",
    "\n",
    "To reduce the noise and get a finer look at the spectrum, we will break our **entire sequence (not the cropped one)** into smaller sequences. We don't need a very good spectral resolution, so we will break it into chunks of 2048 samples, calculate their magnitude spectra, and average. This is also called the average power specrum.\n",
    "\n",
    "* Reshape the sequence into a matrix with row size of 2048. Remember that the ordering of the matrix is 'C' style and hence row-first. \n",
    "* Multiply the rows by a kaiser window with $\\beta=6$\n",
    "* Compute fft and fftshift along the 2nd dimension. \n",
    "* Compute the absolute square of the result and average along the 1st dimension\n",
    "* Plot the result"
   ]
  },
  {
   "cell_type": "code",
   "execution_count": null,
   "metadata": {},
   "outputs": [],
   "source": [
    "# Your code here:\n",
    "\n",
    "\n",
    "# compute mean\n",
    "Pspect = mean(abs(X)*abs(X),axis=0)"
   ]
  },
  {
   "cell_type": "code",
   "execution_count": null,
   "metadata": {
    "scrolled": false
   },
   "outputs": [],
   "source": [
    "# Display:\n",
    "\n",
    "f = r_[-N/2:N/2]/N*fs + fc\n",
    "\n",
    "width, height = figaspect(0.3)\n",
    "plt.figure(figsize=(width,height))\n",
    "plt.semilogy(f/1e6, Pspect)\n",
    "plt.xlabel('frequency [MHz]'); plt.title('Average Power Spectrum')\n"
   ]
  },
  {
   "cell_type": "markdown",
   "metadata": {},
   "source": [
    "This plot is called the average power spectrum. As you can see, the spectrum looks much nicer now. Can you identify the NOAA weather station? Only the wide spectrum peaks are real, BTW. The very narrow spiky peaks in the spectrum are probably due to leakage of the local oscilator, non-linearity in the receiver, and poor dynamic range of the ADC of the device. Still... for $12 it is not too bad!\n"
   ]
  },
  {
   "cell_type": "markdown",
   "metadata": {},
   "source": [
    "* What is the spectral resolution in the plot?\n",
    "* Repeat the the measurement and the average power spectrum for the center frequency 88.4MHz. Can you identify NPR's 88.5MHz station?\n",
    "\n",
    "Note: The rectangular bands you see around the main signal are HD radio signals. These are transmitted at the band edges and provide digital radio programming. Unfortunately HD radio in the USA uses proprietery protocol, and we can not easily decode it at this time. If you want to implement this yourself, you can visit [this](https://www.rtl-sdr.com/decoding-and-listening-to-hd-radio-nrsc-5-with-an-rtl-sdr/) link and follow the instructions there. "
   ]
  },
  {
   "cell_type": "code",
   "execution_count": null,
   "metadata": {},
   "outputs": [],
   "source": [
    "# Your code here:\n"
   ]
  },
  {
   "cell_type": "code",
   "execution_count": null,
   "metadata": {},
   "outputs": [],
   "source": [
    "np.save('npr_mine.npy',y)\n",
    "\n",
    "#In case you are having trouble with the SDR, uncomment the line below to load Miki's capture\n",
    "# y = np.load('npr.npy')"
   ]
  },
  {
   "cell_type": "code",
   "execution_count": null,
   "metadata": {},
   "outputs": [],
   "source": [
    "# Your code here:\n",
    "\n",
    "\n",
    "# compute mean\n",
    "\n",
    "Pspect = mean(abs(X)*abs(X),axis=0)\n",
    "f = r_[-N/2:N/2]/N*fs + fc\n",
    "width, height = figaspect(0.2)\n",
    "fig=plt.figure(figsize=(width,height))\n",
    "p = plt.semilogy(f/1e6,Pspect)\n",
    "plt.xlabel('frequency [MHz]'); plt.title('Average Power Spectrum')\n"
   ]
  },
  {
   "cell_type": "markdown",
   "metadata": {},
   "source": [
    "## You are now ready to proceed to the next part. Make sure you kill this kernel to save memory"
   ]
  },
  {
   "cell_type": "code",
   "execution_count": null,
   "metadata": {},
   "outputs": [],
   "source": [
    "%reset -f"
   ]
  }
 ],
 "metadata": {
  "kernelspec": {
   "display_name": "Python 3",
   "language": "python",
   "name": "python3"
  },
  "language_info": {
   "codemirror_mode": {
    "name": "ipython",
    "version": 3
   },
   "file_extension": ".py",
   "mimetype": "text/x-python",
   "name": "python",
   "nbconvert_exporter": "python",
   "pygments_lexer": "ipython3",
   "version": "3.7.3"
  }
 },
 "nbformat": 4,
 "nbformat_minor": 1
}
